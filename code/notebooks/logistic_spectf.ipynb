{
 "cells": [
  {
   "cell_type": "markdown",
   "metadata": {},
   "source": [
    "## Logistic Regression on the SPECTF Heart Data Set\n",
    "\n",
    "Evaluating Logistic Regression on the [SPECTF Heart Data Set](https://archive.ics.uci.edu/ml/datasets/SPECTF+Heart). Using numpy, pandas and scikit-learn.\n",
    "\n",
    "## Setup\n",
    "Imports the required dependencies, and define the path to the dataset."
   ]
  },
  {
   "cell_type": "code",
   "execution_count": 1,
   "metadata": {
    "collapsed": true
   },
   "outputs": [],
   "source": [
    "%reload_ext autoreload\n",
    "%autoreload 2\n",
    "%matplotlib inline"
   ]
  },
  {
   "cell_type": "code",
   "execution_count": 2,
   "metadata": {
    "collapsed": true
   },
   "outputs": [],
   "source": [
    "import utils\n",
    "import numpy as np\n",
    "import pandas as pd\n",
    "from sklearn import metrics\n",
    "from __future__ import print_function\n",
    "from sklearn.linear_model import LogisticRegression"
   ]
  },
  {
   "cell_type": "code",
   "execution_count": 3,
   "metadata": {
    "collapsed": true
   },
   "outputs": [],
   "source": [
    "# Path to the dataset\n",
    "path = '../core/src/test/resources/'"
   ]
  },
  {
   "cell_type": "markdown",
   "metadata": {},
   "source": [
    "### Data Preparation\n",
    "Prepare the training and testing dataset and convert them into numpy arrays."
   ]
  },
  {
   "cell_type": "code",
   "execution_count": 4,
   "metadata": {
    "collapsed": true
   },
   "outputs": [],
   "source": [
    "train_csv = pd.read_csv(path + 'spectf.train.csv')\n",
    "test_csv = pd.read_csv(path + 'spectf.test.csv')\n",
    "\n",
    "train_data = np.array(train_csv)\n",
    "X_train = train_data[:, 1:]\n",
    "y_train = np.ravel(train_data[:, 0])\n",
    "\n",
    "test_data = np.array(test_csv)\n",
    "X_test = test_data[:, 1:]\n",
    "y_test = np.ravel(test_data[:, 0])"
   ]
  },
  {
   "cell_type": "markdown",
   "metadata": {},
   "source": [
    "## Modelling\n",
    "Create a [Logistic Regression](http://scikit-learn.org/stable/modules/generated/sklearn.linear_model.LogisticRegression.html) model and fit on the training dataset\n",
    "\n",
    "Main Parameters\n",
    "- `penalty`: The norm used in regularisation (L1, L2)\n",
    "- `tol`: Tolerance for stopping criteria\n",
    "- `C`: Constraint violation for regularisation\n",
    "- `fit_intercept`: Bias"
   ]
  },
  {
   "cell_type": "code",
   "execution_count": 5,
   "metadata": {},
   "outputs": [
    {
     "data": {
      "text/plain": [
       "1.0"
      ]
     },
     "execution_count": 5,
     "metadata": {},
     "output_type": "execute_result"
    }
   ],
   "source": [
    " model = LogisticRegression(penalty='l2', dual=False, tol=0.001, C=100.0, fit_intercept=True, intercept_scaling=1,\n",
    "                           class_weight=None, solver='liblinear', verbose=0)\n",
    "\n",
    "# Train\n",
    "model = model.fit(X_train, y_train)\n",
    "\n",
    "# Check accuracy on the training dataset\n",
    "model.score(X_train, y_train)"
   ]
  },
  {
   "cell_type": "markdown",
   "metadata": {},
   "source": [
    "### Evaluation\n",
    "\n",
    "Evaluate the model on the testing dataset, and display the testing accuracy, confusion matrix and percision/recall."
   ]
  },
  {
   "cell_type": "code",
   "execution_count": 6,
   "metadata": {},
   "outputs": [
    {
     "name": "stdout",
     "output_type": "stream",
     "text": [
      "Testing Accuracy 0.612903225806\n",
      "\n",
      "             precision    recall  f1-score   support\n",
      "\n",
      "          0       0.11      0.53      0.18        15\n",
      "          1       0.94      0.62      0.75       171\n",
      "\n",
      "avg / total       0.87      0.61      0.70       186\n",
      "\n",
      "Confusion matrix, without normalization\n"
     ]
    },
    {
     "data": {
      "image/png": "[encoded data removed]",
      "text/plain": [
       "<matplotlib.figure.Figure at 0x115295748>"
      ]
     },
     "metadata": {},
     "output_type": "display_data"
    }
   ],
   "source": [
    "# Get predictions\n",
    "preds = model.predict(X_test)\n",
    "\n",
    "# Check accuracy on the testing dataset\n",
    "print('Testing Accuracy', metrics.accuracy_score(y_test, preds), end='\\n\\n')\n",
    "\n",
    "# F1 Score\n",
    "print(metrics.classification_report(y_test, preds))\n",
    "\n",
    "# Confusion matrix\n",
    "cm = metrics.confusion_matrix(y_test, preds)\n",
    "utils.plot_confusion_matrix(cm, ['neg', 'pos'])"
   ]
  },
  {
   "cell_type": "code",
   "execution_count": null,
   "metadata": {
    "collapsed": true
   },
   "outputs": [],
   "source": []
  }
 ],
 "metadata": {
  "kernelspec": {
   "display_name": "Python 3",
   "language": "python",
   "name": "python3"
  },
  "language_info": {
   "codemirror_mode": {
    "name": "ipython",
    "version": 3
   },
   "file_extension": ".py",
   "mimetype": "text/x-python",
   "name": "python",
   "nbconvert_exporter": "python",
   "pygments_lexer": "ipython3",
   "version": "3.6.1"
  }
 },
 "nbformat": 4,
 "nbformat_minor": 2
}
