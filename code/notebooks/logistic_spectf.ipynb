{
 "cells": [
  {
   "cell_type": "markdown",
   "metadata": {},
   "source": [
    "## Logistic Regression on the SPECTF Heart Data Set\n",
    "\n",
    "Evaluating Logistic Regression on the [SPECTF Heart Data Set](https://archive.ics.uci.edu/ml/datasets/SPECTF+Heart). Using numpy, pandas and scikit-learn.\n",
    "\n",
    "## Setup\n",
    "Imports the required dependencies, and define the path to the dataset."
   ]
  },
  {
   "cell_type": "code",
   "execution_count": 12,
   "metadata": {
    "collapsed": true
   },
   "outputs": [],
   "source": [
    "%matplotlib inline\n",
    "\n",
    "import utils; reload(utils)\n",
    "import numpy as np\n",
    "import pandas as pd\n",
    "from sklearn import metrics\n",
    "from __future__ import print_function\n",
    "from sklearn.linear_model import LogisticRegression"
   ]
  },
  {
   "cell_type": "code",
   "execution_count": 13,
   "metadata": {
    "collapsed": true
   },
   "outputs": [],
   "source": [
    "# Path to the dataset\n",
    "path = '../core/src/test/resources/'"
   ]
  },
  {
   "cell_type": "markdown",
   "metadata": {},
   "source": [
    "### Data Preparation\n",
    "Prepare the training and testing dataset and convert them into numpy arrays."
   ]
  },
  {
   "cell_type": "code",
   "execution_count": 16,
   "metadata": {},
   "outputs": [],
   "source": [
    "train_csv = pd.read_csv(path + 'spectf.train.csv')\n",
    "test_csv = pd.read_csv(path + 'spectf.test.csv')\n",
    "\n",
    "train_data = np.array(train_csv)\n",
    "X_train = train_data[:, 1:]\n",
    "y_train = np.ravel(train_data[:, 0])\n",
    "\n",
    "test_data = np.array(test_csv)\n",
    "X_test = test_data[:, 1:]\n",
    "y_test = np.ravel(test_data[:, 0])"
   ]
  },
  {
   "cell_type": "markdown",
   "metadata": {},
   "source": [
    "## Modelling\n",
    "Create a [Logistic Regression](http://scikit-learn.org/stable/modules/generated/sklearn.linear_model.LogisticRegression.html) model and fit on the training dataset\n",
    "\n",
    "- `penalty`: The norm used in regularisation (L1, L2)\n",
    "- `tol`: Tolerance for stopping criteria\n",
    "- `C`: Constraint violation for regularisation\n",
    "- `fit_intercept`: Bias"
   ]
  },
  {
   "cell_type": "code",
   "execution_count": 27,
   "metadata": {},
   "outputs": [
    {
     "data": {
      "text/plain": [
       "1.0"
      ]
     },
     "execution_count": 27,
     "metadata": {},
     "output_type": "execute_result"
    }
   ],
   "source": [
    "model = LogisticRegression(penalty='l2', tol=0.001, C=100.0, fit_intercept=True)\n",
    "model = model.fit(X_train, y_train)\n",
    "\n",
    "# Check accuracy on the training dataset\n",
    "model.score(X_train, y_train)"
   ]
  },
  {
   "cell_type": "markdown",
   "metadata": {},
   "source": [
    "### Evaluation\n",
    "\n",
    "Evaluate the model on the testing dataset, and display the testing accuracy, confusion matrix and percision/recall."
   ]
  },
  {
   "cell_type": "code",
   "execution_count": 28,
   "metadata": {},
   "outputs": [
    {
     "name": "stdout",
     "output_type": "stream",
     "text": [
      "Testing Accuracy 0.612903225806\n",
      "\n",
      "             precision    recall  f1-score   support\n",
      "\n",
      "          0       0.10      0.47      0.16        15\n",
      "          1       0.93      0.63      0.75       171\n",
      "\n",
      "avg / total       0.86      0.61      0.70       186\n",
      "\n",
      "Confusion matrix, without normalization\n"
     ]
    },
    {
     "data": {
      "image/png": "[encoded data removed]",
      "text/plain": [
       "<matplotlib.figure.Figure at 0x11c6572d0>"
      ]
     },
     "metadata": {},
     "output_type": "display_data"
    }
   ],
   "source": [
    "# Get predictions\n",
    "preds = model.predict(X_test)\n",
    "\n",
    "# Check accuracy on the testing dataset\n",
    "print('Testing Accuracy', metrics.accuracy_score(y_test, preds), end='\\n\\n')\n",
    "\n",
    "\n",
    "# F1 Score\n",
    "print(metrics.classification_report(y_test, preds))\n",
    "\n",
    "# Confusion matrix\n",
    "cm = metrics.confusion_matrix(y_test, preds)\n",
    "utils.plot_confusion_matrix(cm, ['neg', 'pos'])"
   ]
  },
  {
   "cell_type": "code",
   "execution_count": null,
   "metadata": {
    "collapsed": true
   },
   "outputs": [],
   "source": []
  }
 ],
 "metadata": {
  "kernelspec": {
   "display_name": "Python 2",
   "language": "python",
   "name": "python2"
  },
  "language_info": {
   "codemirror_mode": {
    "name": "ipython",
    "version": 2
   },
   "file_extension": ".py",
   "mimetype": "text/x-python",
   "name": "python",
   "nbconvert_exporter": "python",
   "pygments_lexer": "ipython2",
   "version": "2.7.13"
  }
 },
 "nbformat": 4,
 "nbformat_minor": 2
}
