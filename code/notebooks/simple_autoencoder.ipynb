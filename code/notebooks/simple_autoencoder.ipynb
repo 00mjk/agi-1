{
 "cells": [
  {
   "cell_type": "markdown",
   "metadata": {},
   "source": [
    "# Simple Autoencoder in TensorFlow, PyTorch & MXNet"
   ]
  },
  {
   "cell_type": "markdown",
   "metadata": {},
   "source": [
    "An implementation of a simple autoencoder with TensorFlow, PyTorch and MXNet using the same architecture and hyperparameters as much as possible."
   ]
  },
  {
   "cell_type": "markdown",
   "metadata": {
    "heading_collapsed": true
   },
   "source": [
    "# Setup"
   ]
  },
  {
   "cell_type": "code",
   "execution_count": 1,
   "metadata": {
    "hidden": true
   },
   "outputs": [],
   "source": [
    "%reload_ext autoreload\n",
    "%autoreload 2\n",
    "%matplotlib inline"
   ]
  },
  {
   "cell_type": "code",
   "execution_count": 17,
   "metadata": {
    "hidden": true
   },
   "outputs": [],
   "source": [
    "import os\n",
    "import numpy as np\n",
    "import matplotlib.pyplot as plt\n",
    "\n",
    "from __future__ import division, print_function, absolute_import"
   ]
  },
  {
   "cell_type": "code",
   "execution_count": 72,
   "metadata": {
    "hidden": true
   },
   "outputs": [],
   "source": [
    "# Training Parameters\n",
    "num_epochs    = 10\n",
    "batch_size    = 128\n",
    "weight_decay  = 1e-5\n",
    "learning_rate = 1e-3\n",
    "\n",
    "# Network Parameters\n",
    "num_input    = 784 # MNIST data input (img shape: 28*28)\n",
    "num_hidden_1 = 128\n",
    "num_hidden_2 = 65\n",
    "num_hidden_3 = 12\n",
    "num_hidden_4 = 3"
   ]
  },
  {
   "cell_type": "markdown",
   "metadata": {
    "heading_collapsed": true
   },
   "source": [
    "# MXNet"
   ]
  },
  {
   "cell_type": "markdown",
   "metadata": {
    "heading_collapsed": true
   },
   "source": [
    "# TensorFlow"
   ]
  },
  {
   "cell_type": "code",
   "execution_count": 50,
   "metadata": {
    "hidden": true
   },
   "outputs": [],
   "source": [
    "import tensorflow as tf\n",
    "\n",
    "from tensorflow.examples.tutorials.mnist import input_data"
   ]
  },
  {
   "cell_type": "code",
   "execution_count": 51,
   "metadata": {
    "hidden": true
   },
   "outputs": [
    {
     "name": "stdout",
     "output_type": "stream",
     "text": [
      "Extracting /tmp/data/train-images-idx3-ubyte.gz\n",
      "Extracting /tmp/data/train-labels-idx1-ubyte.gz\n",
      "Extracting /tmp/data/t10k-images-idx3-ubyte.gz\n",
      "Extracting /tmp/data/t10k-labels-idx1-ubyte.gz\n"
     ]
    }
   ],
   "source": [
    "mnist = input_data.read_data_sets(\"/tmp/data/\", one_hot=True)"
   ]
  },
  {
   "cell_type": "code",
   "execution_count": 52,
   "metadata": {
    "hidden": true
   },
   "outputs": [],
   "source": [
    "display_step = 1000\n",
    "num_steps = num_epochs * 1000"
   ]
  },
  {
   "cell_type": "code",
   "execution_count": 54,
   "metadata": {
    "hidden": true
   },
   "outputs": [],
   "source": [
    "# tf Graph input (only pictures)\n",
    "X = tf.placeholder('float', [None, num_input])"
   ]
  },
  {
   "cell_type": "code",
   "execution_count": 55,
   "metadata": {
    "hidden": true
   },
   "outputs": [],
   "source": [
    "weights = {\n",
    "    'encoder_h1': tf.Variable(tf.random_normal([num_input, num_hidden_1])),\n",
    "    'encoder_h2': tf.Variable(tf.random_normal([num_hidden_1, num_hidden_2])),\n",
    "    'encoder_h3': tf.Variable(tf.random_normal([num_hidden_2, num_hidden_3])),\n",
    "    'encoder_h4': tf.Variable(tf.random_normal([num_hidden_3, num_hidden_4])),\n",
    "    'decoder_h1': tf.Variable(tf.random_normal([num_hidden_4, num_hidden_3])),\n",
    "    'decoder_h2': tf.Variable(tf.random_normal([num_hidden_3, num_hidden_2])),\n",
    "    'decoder_h3': tf.Variable(tf.random_normal([num_hidden_2, num_hidden_1])),\n",
    "    'decoder_h4': tf.Variable(tf.random_normal([num_hidden_1, num_input])),\n",
    "}\n",
    "biases = {\n",
    "    'encoder_b1': tf.Variable(tf.random_normal([num_hidden_1])),\n",
    "    'encoder_b2': tf.Variable(tf.random_normal([num_hidden_2])),\n",
    "    'encoder_b3': tf.Variable(tf.random_normal([num_hidden_3])),\n",
    "    'encoder_b4': tf.Variable(tf.random_normal([num_hidden_4])),\n",
    "    'decoder_b1': tf.Variable(tf.random_normal([num_hidden_3])),\n",
    "    'decoder_b2': tf.Variable(tf.random_normal([num_hidden_2])),\n",
    "    'decoder_b3': tf.Variable(tf.random_normal([num_hidden_1])),\n",
    "    'decoder_b4': tf.Variable(tf.random_normal([num_input])),\n",
    "}"
   ]
  },
  {
   "cell_type": "code",
   "execution_count": 56,
   "metadata": {
    "hidden": true
   },
   "outputs": [],
   "source": [
    "# Building the encoder\n",
    "def encoder(x):\n",
    "    layer_1 = tf.nn.relu(tf.add(tf.matmul(x, weights['encoder_h1']),\n",
    "                                   biases['encoder_b1']))\n",
    "    layer_2 = tf.nn.relu(tf.add(tf.matmul(layer_1, weights['encoder_h2']),\n",
    "                                   biases['encoder_b2']))\n",
    "    layer_3 = tf.nn.relu(tf.add(tf.matmul(layer_2, weights['encoder_h3']),\n",
    "                                   biases['encoder_b3']))\n",
    "    layer_4 = tf.nn.relu(tf.add(tf.matmul(layer_3, weights['encoder_h4']),\n",
    "                                   biases['encoder_b4']))\n",
    "    return layer_4\n",
    "\n",
    "# Building the decoder\n",
    "def decoder(x):\n",
    "    layer_1 = tf.nn.relu(tf.add(tf.matmul(x, weights['decoder_h1']),\n",
    "                                   biases['decoder_b1']))\n",
    "    layer_2 = tf.nn.relu(tf.add(tf.matmul(layer_1, weights['decoder_h2']),\n",
    "                                   biases['decoder_b2']))\n",
    "    layer_3 = tf.nn.relu(tf.add(tf.matmul(layer_2, weights['decoder_h3']),\n",
    "                                   biases['decoder_b3']))\n",
    "    layer_4 = tf.nn.tanh(tf.add(tf.matmul(layer_3, weights['decoder_h4']),\n",
    "                                   biases['decoder_b4']))\n",
    "    return layer_4"
   ]
  },
  {
   "cell_type": "code",
   "execution_count": 57,
   "metadata": {
    "hidden": true
   },
   "outputs": [],
   "source": [
    "# Construct model\n",
    "encoder_op = encoder(X)\n",
    "decoder_op = decoder(encoder_op)"
   ]
  },
  {
   "cell_type": "code",
   "execution_count": 58,
   "metadata": {
    "hidden": true
   },
   "outputs": [],
   "source": [
    "# Prediction\n",
    "y_pred = decoder_op\n",
    "\n",
    "# Targets (Labels) are the input data.\n",
    "y_true = X"
   ]
  },
  {
   "cell_type": "code",
   "execution_count": 59,
   "metadata": {
    "hidden": true
   },
   "outputs": [],
   "source": [
    "saver = tf.train.Saver()\n",
    "\n",
    "# Define loss and optimizer, minimize the squared error\n",
    "loss = tf.reduce_mean(tf.pow(y_true - y_pred, 2))\n",
    "optimizer = tf.train.AdamOptimizer(learning_rate).minimize(loss, weight_decay=weight_decay)\n",
    "\n",
    "# Initialize the variables (i.e. assign their default value)\n",
    "init = tf.global_variables_initializer()"
   ]
  },
  {
   "cell_type": "code",
   "execution_count": 62,
   "metadata": {
    "hidden": true
   },
   "outputs": [
    {
     "name": "stdout",
     "output_type": "stream",
     "text": [
      "Step 1: Minibatch Loss: 1.117130\n",
      "Step 1000: Minibatch Loss: 1.082487\n",
      "Step 2000: Minibatch Loss: 1.080882\n",
      "Step 3000: Minibatch Loss: 1.073486\n",
      "Step 4000: Minibatch Loss: 1.074969\n",
      "Step 5000: Minibatch Loss: 1.071067\n",
      "Step 6000: Minibatch Loss: 1.054731\n",
      "Step 7000: Minibatch Loss: 1.040796\n",
      "Step 8000: Minibatch Loss: 1.014696\n",
      "Step 9000: Minibatch Loss: 1.004351\n",
      "Step 10000: Minibatch Loss: 1.005870\n"
     ]
    }
   ],
   "source": [
    "# Start Training\n",
    "with tf.Session() as sess:\n",
    "\n",
    "    # Run the initializer\n",
    "    sess.run(init)\n",
    "\n",
    "    # Training\n",
    "    for i in range(1, num_steps+1):\n",
    "        # Prepare Data\n",
    "        # Get the next batch of MNIST data (only images are needed, not labels)\n",
    "        batch_x, _ = mnist.train.next_batch(batch_size)\n",
    "\n",
    "        # Run optimization op (backprop) and cost op (to get loss value)\n",
    "        _, l = sess.run([optimizer, loss], feed_dict={X: batch_x})\n",
    "        \n",
    "        # Display logs per step\n",
    "        if i % display_step == 0 or i == 1:\n",
    "            print('Step %i: Minibatch Loss: %f' % (i, l))\n",
    "    \n",
    "    # Save model\n",
    "    saver.save(sess, 'tf_autoencoder.model')"
   ]
  },
  {
   "cell_type": "markdown",
   "metadata": {},
   "source": [
    "# PyTorch"
   ]
  },
  {
   "cell_type": "code",
   "execution_count": 65,
   "metadata": {},
   "outputs": [],
   "source": [
    "import torch\n",
    "import torchvision\n",
    "\n",
    "from torch import nn\n",
    "from torch.autograd import Variable\n",
    "from torch.utils.data import DataLoader\n",
    "from torchvision import transforms\n",
    "from torchvision.datasets import MNIST\n",
    "from torchvision.utils import save_image"
   ]
  },
  {
   "cell_type": "code",
   "execution_count": 66,
   "metadata": {},
   "outputs": [],
   "source": [
    "img_transform = transforms.Compose([\n",
    "    transforms.ToTensor(),\n",
    "    transforms.Normalize((0.5, 0.5, 0.5), (0.5, 0.5, 0.5))\n",
    "])"
   ]
  },
  {
   "cell_type": "code",
   "execution_count": 67,
   "metadata": {},
   "outputs": [],
   "source": [
    "dataset = MNIST('./data', transform=img_transform, download=True)\n",
    "dataloader = DataLoader(dataset, batch_size=batch_size, shuffle=True)"
   ]
  },
  {
   "cell_type": "code",
   "execution_count": 68,
   "metadata": {},
   "outputs": [],
   "source": [
    "class SimpleAutoencoder(nn.Module):\n",
    "    def __init__(self):\n",
    "        super(SimpleAutoencoder, self).__init__()\n",
    "        self.encoder = nn.Sequential(\n",
    "            nn.Linear(num_input, num_hidden_1),\n",
    "            nn.ReLU(True),\n",
    "            nn.Linear(num_hidden_1, num_hidden_2),\n",
    "            nn.ReLU(True),\n",
    "            nn.Linear(num_hidden_2, num_hidden_3),\n",
    "            nn.ReLU(True),\n",
    "            nn.Linear(num_hidden_3, num_hidden_4)\n",
    "        )\n",
    "        self.decoder = nn.Sequential(\n",
    "            nn.Linear(num_hidden_4, num_hidden_3),\n",
    "            nn.ReLU(True),\n",
    "            nn.Linear(num_hidden_3, num_hidden_2),\n",
    "            nn.ReLU(True),\n",
    "            nn.Linear(num_hidden_2, num_hidden_1),\n",
    "            nn.ReLU(True),\n",
    "            nn.Linear(num_hidden_1, num_input),\n",
    "            nn.Tanh()\n",
    "        )\n",
    "    \n",
    "    def forward(self, x):\n",
    "        x = self.encoder(x)\n",
    "        x = self.decoder(x)\n",
    "        return x"
   ]
  },
  {
   "cell_type": "code",
   "execution_count": 70,
   "metadata": {},
   "outputs": [],
   "source": [
    "model = SimpleAutoencoder() # .cuda() for GPU\n",
    "\n",
    "loss_fn = nn.MSELoss()\n",
    "optimizer = torch.optim.Adam(model.parameters(), lr=learning_rate, weight_decay=weight_decay)"
   ]
  },
  {
   "cell_type": "code",
   "execution_count": 71,
   "metadata": {},
   "outputs": [
    {
     "name": "stdout",
     "output_type": "stream",
     "text": [
      "Epoch [1/10], Loss: 0.1921\n",
      "Epoch [2/10], Loss: 0.1741\n",
      "Epoch [3/10], Loss: 0.1842\n",
      "Epoch [4/10], Loss: 0.1677\n",
      "Epoch [5/10], Loss: 0.1496\n",
      "Epoch [6/10], Loss: 0.1468\n",
      "Epoch [7/10], Loss: 0.1553\n",
      "Epoch [8/10], Loss: 0.1486\n",
      "Epoch [9/10], Loss: 0.1482\n",
      "Epoch [10/10], Loss: 0.1495\n"
     ]
    }
   ],
   "source": [
    "# Training\n",
    "for epoch in range(num_epochs):\n",
    "    for data in dataloader:\n",
    "        img, _ = data\n",
    "        img = img.view(img.size(0), -1)\n",
    "        img = Variable(img) # .cuda() for GPU\n",
    "        \n",
    "        # Forward pass\n",
    "        output = model(img)\n",
    "        loss = loss_fn(output, img)\n",
    "        \n",
    "        # Backward pass\n",
    "        optimizer.zero_grad()\n",
    "        loss.backward()\n",
    "        optimizer.step()\n",
    "        \n",
    "    print('Epoch [{}/{}], Loss: {:.4f}'\n",
    "          .format(epoch + 1, num_epochs, loss.data[0]))\n",
    "    \n",
    "# Recommended best practice: saves model parameters\n",
    "torch.save(model.state_dict(), './pt_autoencoder.model')\n",
    "\n",
    "# Saves entire model\n",
    "# torch.save(model, './pt_autoencoder.model')"
   ]
  },
  {
   "cell_type": "code",
   "execution_count": 49,
   "metadata": {},
   "outputs": [],
   "source": []
  },
  {
   "cell_type": "code",
   "execution_count": null,
   "metadata": {},
   "outputs": [],
   "source": []
  }
 ],
 "metadata": {
  "kernelspec": {
   "display_name": "Python 3",
   "language": "python",
   "name": "python3"
  },
  "language_info": {
   "codemirror_mode": {
    "name": "ipython",
    "version": 3
   },
   "file_extension": ".py",
   "mimetype": "text/x-python",
   "name": "python",
   "nbconvert_exporter": "python",
   "pygments_lexer": "ipython3",
   "version": "3.6.3"
  }
 },
 "nbformat": 4,
 "nbformat_minor": 2
}
