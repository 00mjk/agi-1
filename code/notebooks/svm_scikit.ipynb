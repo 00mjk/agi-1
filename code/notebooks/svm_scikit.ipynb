{
 "cells": [
  {
   "cell_type": "markdown",
   "metadata": {},
   "source": [
    "# Support Vector Machine\n",
    "Evaluating SVM on multiple datasets using numpy, pandas and scikit-learn.\n",
    "\n",
    "[SVM Documentation](http://scikit-learn.org/stable/modules/svm.html)\n",
    "\n",
    "**Main Parameters**\n",
    "- `kernel`: The kernel function (linear, polynomial, rbf, sigmoid\n",
    "- `C`: Constraint violation for regularisation\n",
    "- `tol`: Tolerance for stopping criteria\n",
    "\n",
    "Kernel-specific params see [here](http://scikit-learn.org/stable/modules/svm.html#kernel-functions)\n",
    "- rbf: `gamma`\n",
    "- sigmoid: `coef0`\n",
    "- polynomial: `degree`, `coef0`"
   ]
  },
  {
   "cell_type": "markdown",
   "metadata": {},
   "source": [
    "## Setup"
   ]
  },
  {
   "cell_type": "code",
   "execution_count": 1,
   "metadata": {
    "collapsed": true
   },
   "outputs": [],
   "source": [
    "%reload_ext autoreload\n",
    "%autoreload 2\n",
    "%matplotlib inline"
   ]
  },
  {
   "cell_type": "code",
   "execution_count": 2,
   "metadata": {
    "collapsed": true
   },
   "outputs": [],
   "source": [
    "import utils\n",
    "import numpy as np\n",
    "import pandas as pd\n",
    "from sklearn import svm\n",
    "from sklearn import metrics\n",
    "from __future__ import print_function"
   ]
  },
  {
   "cell_type": "code",
   "execution_count": 3,
   "metadata": {
    "collapsed": true
   },
   "outputs": [],
   "source": [
    "# Path to the datasets\n",
    "path = '../core/src/test/resources/'"
   ]
  },
  {
   "cell_type": "code",
   "execution_count": 4,
   "metadata": {
    "collapsed": true
   },
   "outputs": [],
   "source": [
    "# Model Parameters\n",
    "gamma = 0.1\n",
    "kernel = 'rbf' # Kernel: rbf, sigmoid, polynomial\n",
    "C = 100.0 # Constraint violation\n",
    "eps = 0.001 # Stopping criteria"
   ]
  },
  {
   "cell_type": "markdown",
   "metadata": {},
   "source": [
    "## Skin Segmentation Dataset"
   ]
  },
  {
   "cell_type": "markdown",
   "metadata": {},
   "source": [
    "### Data Preparation\n",
    "Prepare the training and testing dataset and convert them into numpy arrays."
   ]
  },
  {
   "cell_type": "code",
   "execution_count": 5,
   "metadata": {
    "collapsed": true
   },
   "outputs": [],
   "source": [
    "skin_train_csv = pd.read_csv(path + 'skin.train.sample.csv', header=None)\n",
    "skin_test_csv = pd.read_csv(path + 'skin.test.sample.csv', header=None)\n",
    "\n",
    "skin_train_data = np.array(skin_train_csv)\n",
    "skin_X_train = skin_train_data[:, :3]\n",
    "skin_y_train = np.ravel(skin_train_data[:, 3])\n",
    "\n",
    "skin_test_data = np.array(skin_test_csv)\n",
    "skin_X_test = skin_test_data[:, :3]\n",
    "skin_y_test = np.ravel(skin_test_data[:, 3])"
   ]
  },
  {
   "cell_type": "markdown",
   "metadata": {},
   "source": [
    "### Modelling\n",
    "Create an SVM model and fit on the training dataset"
   ]
  },
  {
   "cell_type": "code",
   "execution_count": 6,
   "metadata": {},
   "outputs": [
    {
     "data": {
      "text/plain": [
       "1.0"
      ]
     },
     "execution_count": 6,
     "metadata": {},
     "output_type": "execute_result"
    }
   ],
   "source": [
    "# Create SVM model\n",
    "skin_model = svm.SVC(kernel=kernel, C=C, gamma=gamma, tol=eps, verbose=False)\n",
    "\n",
    "# Train\n",
    "skin_model = skin_model.fit(skin_X_train, skin_y_train)\n",
    "\n",
    "# Check accuracy on the training dataset\n",
    "skin_model.score(skin_X_train, skin_y_train)"
   ]
  },
  {
   "cell_type": "markdown",
   "metadata": {},
   "source": [
    "### Evaluation\n",
    "Evaluate the model on the testing dataset, and display the testing accuracy, confusion matrix and percision/recall."
   ]
  },
  {
   "cell_type": "code",
   "execution_count": 7,
   "metadata": {},
   "outputs": [
    {
     "name": "stdout",
     "output_type": "stream",
     "text": [
      "Testing Accuracy 0.906\n",
      "\n",
      "             precision    recall  f1-score   support\n",
      "\n",
      "          1       1.00      0.56      0.72       212\n",
      "          2       0.89      1.00      0.94       788\n",
      "\n",
      "avg / total       0.92      0.91      0.90      1000\n",
      "\n",
      "Confusion matrix, without normalization\n"
     ]
    },
    {
     "data": {
      "image/png": "[encoded data removed]",
      "text/plain": [
       "<matplotlib.figure.Figure at 0x112cbad68>"
      ]
     },
     "metadata": {},
     "output_type": "display_data"
    }
   ],
   "source": [
    "# Get predictions\n",
    "skin_preds = skin_model.predict(skin_X_test)\n",
    "\n",
    "# Check accuracy on the testing dataset\n",
    "print('Testing Accuracy', metrics.accuracy_score(skin_y_test, skin_preds), end='\\n\\n')\n",
    "\n",
    "# F1 Score\n",
    "print(metrics.classification_report(skin_y_test, skin_preds))\n",
    "\n",
    "# Confusion matrix\n",
    "skin_cm = metrics.confusion_matrix(skin_y_test, skin_preds)\n",
    "utils.plot_confusion_matrix(skin_cm, ['neg', 'pos'])"
   ]
  },
  {
   "cell_type": "markdown",
   "metadata": {},
   "source": [
    "## Iris Dataset"
   ]
  },
  {
   "cell_type": "markdown",
   "metadata": {},
   "source": [
    "### Data Preparation\n",
    "Prepare the training and testing dataset and convert them into numpy arrays."
   ]
  },
  {
   "cell_type": "code",
   "execution_count": 8,
   "metadata": {
    "collapsed": true
   },
   "outputs": [],
   "source": [
    "iris_train_csv = pd.read_csv(path + 'iris.train.csv', header=None)\n",
    "iris_test_csv = pd.read_csv(path + 'iris.test.csv', header=None)\n",
    "\n",
    "iris_train_data = np.array(iris_train_csv)\n",
    "iris_X_train = iris_train_data[:, :4]\n",
    "iris_y_train = np.ravel(iris_train_data[:, 4])\n",
    "\n",
    "iris_test_data = np.array(iris_test_csv)\n",
    "iris_X_test = iris_test_data[:, :4]\n",
    "iris_y_test = np.ravel(iris_test_data[:, 4])"
   ]
  },
  {
   "cell_type": "markdown",
   "metadata": {},
   "source": [
    "### Modelling\n",
    "Create an SVM model and fit on the training dataset"
   ]
  },
  {
   "cell_type": "code",
   "execution_count": 9,
   "metadata": {},
   "outputs": [
    {
     "data": {
      "text/plain": [
       "1.0"
      ]
     },
     "execution_count": 9,
     "metadata": {},
     "output_type": "execute_result"
    }
   ],
   "source": [
    "# Create SVM model\n",
    "iris_model = svm.SVC(kernel=kernel, C=C, gamma=gamma, tol=eps, verbose=False)\n",
    "\n",
    "# Train\n",
    "iris_model = skin_model.fit(iris_X_train, iris_y_train)\n",
    "\n",
    "# Check accuracy on the training dataset\n",
    "iris_model.score(iris_X_train, iris_y_train)"
   ]
  },
  {
   "cell_type": "markdown",
   "metadata": {},
   "source": [
    "### Evaluation\n",
    "Evaluate the model on the testing dataset, and display the testing accuracy, confusion matrix and percision/recall."
   ]
  },
  {
   "cell_type": "code",
   "execution_count": 10,
   "metadata": {
    "scrolled": true
   },
   "outputs": [
    {
     "name": "stdout",
     "output_type": "stream",
     "text": [
      "Testing Accuracy 0.955555555556\n",
      "\n",
      "             precision    recall  f1-score   support\n",
      "\n",
      "        0.0       1.00      1.00      1.00        17\n",
      "        1.0       1.00      0.88      0.93        16\n",
      "        2.0       0.86      1.00      0.92        12\n",
      "\n",
      "avg / total       0.96      0.96      0.96        45\n",
      "\n",
      "Confusion matrix, without normalization\n"
     ]
    },
    {
     "data": {
      "image/png": "[encoded data removed]",
      "text/plain": [
       "<matplotlib.figure.Figure at 0x112ffd860>"
      ]
     },
     "metadata": {},
     "output_type": "display_data"
    }
   ],
   "source": [
    "# Get predictions\n",
    "iris_preds = iris_model.predict(iris_X_test)\n",
    "\n",
    "# Check accuracy on the testing dataset\n",
    "print('Testing Accuracy', metrics.accuracy_score(iris_y_test, iris_preds), end='\\n\\n')\n",
    "\n",
    "# F1 Score\n",
    "print(metrics.classification_report(iris_y_test, iris_preds))\n",
    "\n",
    "# Confusion matrix\n",
    "iris_cm = metrics.confusion_matrix(iris_y_test, iris_preds)\n",
    "utils.plot_confusion_matrix(iris_cm, ['neg', 'pos'])"
   ]
  },
  {
   "cell_type": "markdown",
   "metadata": {},
   "source": [
    "## SPECTF Dataset"
   ]
  },
  {
   "cell_type": "markdown",
   "metadata": {},
   "source": [
    "### Data Preparation\n",
    "Prepare the training and testing dataset and convert them into numpy arrays."
   ]
  },
  {
   "cell_type": "code",
   "execution_count": 11,
   "metadata": {
    "collapsed": true
   },
   "outputs": [],
   "source": [
    "spectf_train_csv = pd.read_csv(path + 'spectf.train.csv', header=None)\n",
    "spectf_test_csv = pd.read_csv(path + 'spectf.test.csv', header=None)\n",
    "\n",
    "spectf_train_data = np.array(spectf_train_csv)\n",
    "spectf_X_train = spectf_train_data[:, 1:]\n",
    "spectf_y_train = np.ravel(spectf_train_data[:, 0])\n",
    "\n",
    "spectf_test_data = np.array(spectf_test_csv)\n",
    "spectf_X_test = spectf_test_data[:, 1:]\n",
    "spectf_y_test = np.ravel(spectf_test_data[:, 0])"
   ]
  },
  {
   "cell_type": "markdown",
   "metadata": {},
   "source": [
    "### Modelling\n",
    "Create an SVM model and fit on the training dataset"
   ]
  },
  {
   "cell_type": "code",
   "execution_count": 12,
   "metadata": {},
   "outputs": [
    {
     "data": {
      "text/plain": [
       "1.0"
      ]
     },
     "execution_count": 12,
     "metadata": {},
     "output_type": "execute_result"
    }
   ],
   "source": [
    "# Create SVM model\n",
    "spectf_model = svm.SVC(kernel=kernel, C=C, gamma=gamma, tol=eps, verbose=False)\n",
    "\n",
    "# Train\n",
    "spectf_model = spectf_model.fit(spectf_X_train, spectf_y_train)\n",
    "\n",
    "# Check accuracy on the training dataset\n",
    "spectf_model.score(spectf_X_train, spectf_y_train)"
   ]
  },
  {
   "cell_type": "markdown",
   "metadata": {},
   "source": [
    "### Evaluation\n",
    "Evaluate the model on the testing dataset, and display the testing accuracy, confusion matrix and percision/recall."
   ]
  },
  {
   "cell_type": "code",
   "execution_count": 13,
   "metadata": {},
   "outputs": [
    {
     "name": "stdout",
     "output_type": "stream",
     "text": [
      "Testing Accuracy 0.909090909091\n",
      "\n",
      "             precision    recall  f1-score   support\n",
      "\n",
      "          0       0.00      0.00      0.00        15\n",
      "          1       0.92      0.99      0.95       172\n",
      "\n",
      "avg / total       0.85      0.91      0.88       187\n",
      "\n",
      "Confusion matrix, without normalization\n"
     ]
    },
    {
     "data": {
      "image/png": "[encoded data removed]",
      "text/plain": [
       "<matplotlib.figure.Figure at 0x116959d68>"
      ]
     },
     "metadata": {},
     "output_type": "display_data"
    }
   ],
   "source": [
    "# Get predictions\n",
    "spectf_preds = spectf_model.predict(spectf_X_test)\n",
    "\n",
    "# Check accuracy on the testing dataset\n",
    "print('Testing Accuracy', metrics.accuracy_score(spectf_y_test, spectf_preds), end='\\n\\n')\n",
    "\n",
    "# F1 Score\n",
    "print(metrics.classification_report(spectf_y_test, spectf_preds))\n",
    "\n",
    "# Confusion matrix\n",
    "spectf_cm = metrics.confusion_matrix(spectf_y_test, spectf_preds)\n",
    "utils.plot_confusion_matrix(spectf_cm, ['neg', 'pos'])"
   ]
  },
  {
   "cell_type": "code",
   "execution_count": null,
   "metadata": {
    "collapsed": true
   },
   "outputs": [],
   "source": []
  }
 ],
 "metadata": {
  "kernelspec": {
   "display_name": "Python 3",
   "language": "python",
   "name": "python3"
  },
  "language_info": {
   "codemirror_mode": {
    "name": "ipython",
    "version": 3
   },
   "file_extension": ".py",
   "mimetype": "text/x-python",
   "name": "python",
   "nbconvert_exporter": "python",
   "pygments_lexer": "ipython3",
   "version": "3.6.1"
  }
 },
 "nbformat": 4,
 "nbformat_minor": 2
}
